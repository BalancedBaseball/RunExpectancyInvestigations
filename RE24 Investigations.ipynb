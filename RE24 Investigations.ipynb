{
 "cells": [
  {
   "cell_type": "code",
   "execution_count": 1,
   "id": "6ad35aac",
   "metadata": {},
   "outputs": [],
   "source": [
    "# Importing packages for the analysis\n",
    "\n",
    "import pandas as pd\n",
    "import numpy as np\n",
    "import pybaseball\n",
    "import warnings\n",
    "\n",
    "from RE24_function import compute_RE24\n",
    "from RP24_function import compute_RP24"
   ]
  },
  {
   "cell_type": "code",
   "execution_count": 2,
   "id": "c329d57c",
   "metadata": {},
   "outputs": [],
   "source": [
    "warnings.filterwarnings('ignore')"
   ]
  },
  {
   "cell_type": "markdown",
   "id": "1e6b0871",
   "metadata": {},
   "source": [
    "## Getting RE24 Tables for 2021-2023"
   ]
  },
  {
   "cell_type": "markdown",
   "id": "dc33ef3e",
   "metadata": {},
   "source": [
    "Once we have an RE24 table, we can do a variety of tasks related to baseball. For the ones we'll be interested in today, we'll look at how run expectancy varies from 2021 through 2023. In order to do so, we'll need to compute run expectancy for each of those seasons, which we can do with the function we created earlier after computing RE24 once."
   ]
  },
  {
   "cell_type": "code",
   "execution_count": 3,
   "id": "1dc96d4e",
   "metadata": {
    "scrolled": false
   },
   "outputs": [
    {
     "name": "stdout",
     "output_type": "stream",
     "text": [
      "This is a large query, it may take a moment to complete\n",
      "Skipping offseason dates\n",
      "Skipping offseason dates\n"
     ]
    },
    {
     "name": "stderr",
     "output_type": "stream",
     "text": [
      "100%|████████████████████████████████████████████████████████████████████████████████| 246/246 [08:01<00:00,  1.96s/it]\n"
     ]
    },
    {
     "data": {
      "text/html": [
       "<div>\n",
       "<style scoped>\n",
       "    .dataframe tbody tr th:only-of-type {\n",
       "        vertical-align: middle;\n",
       "    }\n",
       "\n",
       "    .dataframe tbody tr th {\n",
       "        vertical-align: top;\n",
       "    }\n",
       "\n",
       "    .dataframe thead th {\n",
       "        text-align: right;\n",
       "    }\n",
       "</style>\n",
       "<table border=\"1\" class=\"dataframe\">\n",
       "  <thead>\n",
       "    <tr style=\"text-align: right;\">\n",
       "      <th>Outs</th>\n",
       "      <th>0</th>\n",
       "      <th>1</th>\n",
       "      <th>2</th>\n",
       "    </tr>\n",
       "    <tr>\n",
       "      <th>Bases</th>\n",
       "      <th></th>\n",
       "      <th></th>\n",
       "      <th></th>\n",
       "    </tr>\n",
       "  </thead>\n",
       "  <tbody>\n",
       "    <tr>\n",
       "      <th>000</th>\n",
       "      <td>0.404421</td>\n",
       "      <td>0.211963</td>\n",
       "      <td>0.083436</td>\n",
       "    </tr>\n",
       "    <tr>\n",
       "      <th>001</th>\n",
       "      <td>1.207668</td>\n",
       "      <td>0.833625</td>\n",
       "      <td>0.327084</td>\n",
       "    </tr>\n",
       "    <tr>\n",
       "      <th>010</th>\n",
       "      <td>0.991827</td>\n",
       "      <td>0.578817</td>\n",
       "      <td>0.265401</td>\n",
       "    </tr>\n",
       "    <tr>\n",
       "      <th>011</th>\n",
       "      <td>1.838926</td>\n",
       "      <td>1.25283</td>\n",
       "      <td>0.490937</td>\n",
       "    </tr>\n",
       "    <tr>\n",
       "      <th>100</th>\n",
       "      <td>0.742529</td>\n",
       "      <td>0.428722</td>\n",
       "      <td>0.185288</td>\n",
       "    </tr>\n",
       "    <tr>\n",
       "      <th>101</th>\n",
       "      <td>1.572052</td>\n",
       "      <td>0.979462</td>\n",
       "      <td>0.40495</td>\n",
       "    </tr>\n",
       "    <tr>\n",
       "      <th>110</th>\n",
       "      <td>1.2755</td>\n",
       "      <td>0.748178</td>\n",
       "      <td>0.369455</td>\n",
       "    </tr>\n",
       "    <tr>\n",
       "      <th>111</th>\n",
       "      <td>2.16701</td>\n",
       "      <td>1.404847</td>\n",
       "      <td>0.704897</td>\n",
       "    </tr>\n",
       "  </tbody>\n",
       "</table>\n",
       "</div>"
      ],
      "text/plain": [
       "Outs          0         1         2\n",
       "Bases                              \n",
       "000    0.404421  0.211963  0.083436\n",
       "001    1.207668  0.833625  0.327084\n",
       "010    0.991827  0.578817  0.265401\n",
       "011    1.838926   1.25283  0.490937\n",
       "100    0.742529  0.428722  0.185288\n",
       "101    1.572052  0.979462   0.40495\n",
       "110      1.2755  0.748178  0.369455\n",
       "111     2.16701  1.404847  0.704897"
      ]
     },
     "execution_count": 3,
     "metadata": {},
     "output_type": "execute_result"
    }
   ],
   "source": [
    "RE24_2021 = compute_RE24(startyear = 2021, endyear = 2021)\n",
    "RE24_2021"
   ]
  },
  {
   "cell_type": "code",
   "execution_count": 4,
   "id": "e0ae489f",
   "metadata": {
    "scrolled": false
   },
   "outputs": [
    {
     "name": "stdout",
     "output_type": "stream",
     "text": [
      "This is a large query, it may take a moment to complete\n",
      "Skipping offseason dates\n",
      "Skipping offseason dates\n"
     ]
    },
    {
     "name": "stderr",
     "output_type": "stream",
     "text": [
      "100%|████████████████████████████████████████████████████████████████████████████████| 246/246 [08:29<00:00,  2.07s/it]\n"
     ]
    },
    {
     "data": {
      "text/html": [
       "<div>\n",
       "<style scoped>\n",
       "    .dataframe tbody tr th:only-of-type {\n",
       "        vertical-align: middle;\n",
       "    }\n",
       "\n",
       "    .dataframe tbody tr th {\n",
       "        vertical-align: top;\n",
       "    }\n",
       "\n",
       "    .dataframe thead th {\n",
       "        text-align: right;\n",
       "    }\n",
       "</style>\n",
       "<table border=\"1\" class=\"dataframe\">\n",
       "  <thead>\n",
       "    <tr style=\"text-align: right;\">\n",
       "      <th>Outs</th>\n",
       "      <th>0</th>\n",
       "      <th>1</th>\n",
       "      <th>2</th>\n",
       "    </tr>\n",
       "    <tr>\n",
       "      <th>Bases</th>\n",
       "      <th></th>\n",
       "      <th></th>\n",
       "      <th></th>\n",
       "    </tr>\n",
       "  </thead>\n",
       "  <tbody>\n",
       "    <tr>\n",
       "      <th>000</th>\n",
       "      <td>0.382866</td>\n",
       "      <td>0.20544</td>\n",
       "      <td>0.079162</td>\n",
       "    </tr>\n",
       "    <tr>\n",
       "      <th>001</th>\n",
       "      <td>1.184669</td>\n",
       "      <td>0.851852</td>\n",
       "      <td>0.325581</td>\n",
       "    </tr>\n",
       "    <tr>\n",
       "      <th>010</th>\n",
       "      <td>0.937226</td>\n",
       "      <td>0.574321</td>\n",
       "      <td>0.266112</td>\n",
       "    </tr>\n",
       "    <tr>\n",
       "      <th>011</th>\n",
       "      <td>1.809302</td>\n",
       "      <td>1.266542</td>\n",
       "      <td>0.462011</td>\n",
       "    </tr>\n",
       "    <tr>\n",
       "      <th>100</th>\n",
       "      <td>0.714511</td>\n",
       "      <td>0.420314</td>\n",
       "      <td>0.173134</td>\n",
       "    </tr>\n",
       "    <tr>\n",
       "      <th>101</th>\n",
       "      <td>1.598145</td>\n",
       "      <td>1.029294</td>\n",
       "      <td>0.437441</td>\n",
       "    </tr>\n",
       "    <tr>\n",
       "      <th>110</th>\n",
       "      <td>1.20829</td>\n",
       "      <td>0.765323</td>\n",
       "      <td>0.36339</td>\n",
       "    </tr>\n",
       "    <tr>\n",
       "      <th>111</th>\n",
       "      <td>2.075515</td>\n",
       "      <td>1.336466</td>\n",
       "      <td>0.649342</td>\n",
       "    </tr>\n",
       "  </tbody>\n",
       "</table>\n",
       "</div>"
      ],
      "text/plain": [
       "Outs          0         1         2\n",
       "Bases                              \n",
       "000    0.382866   0.20544  0.079162\n",
       "001    1.184669  0.851852  0.325581\n",
       "010    0.937226  0.574321  0.266112\n",
       "011    1.809302  1.266542  0.462011\n",
       "100    0.714511  0.420314  0.173134\n",
       "101    1.598145  1.029294  0.437441\n",
       "110     1.20829  0.765323   0.36339\n",
       "111    2.075515  1.336466  0.649342"
      ]
     },
     "execution_count": 4,
     "metadata": {},
     "output_type": "execute_result"
    }
   ],
   "source": [
    "RE24_2022 = compute_RE24(startyear = 2022, endyear = 2022)\n",
    "RE24_2022"
   ]
  },
  {
   "cell_type": "code",
   "execution_count": 5,
   "id": "f4abc368",
   "metadata": {},
   "outputs": [
    {
     "data": {
      "text/html": [
       "<div>\n",
       "<style scoped>\n",
       "    .dataframe tbody tr th:only-of-type {\n",
       "        vertical-align: middle;\n",
       "    }\n",
       "\n",
       "    .dataframe tbody tr th {\n",
       "        vertical-align: top;\n",
       "    }\n",
       "\n",
       "    .dataframe thead th {\n",
       "        text-align: right;\n",
       "    }\n",
       "</style>\n",
       "<table border=\"1\" class=\"dataframe\">\n",
       "  <thead>\n",
       "    <tr style=\"text-align: right;\">\n",
       "      <th>Outs</th>\n",
       "      <th>0</th>\n",
       "      <th>1</th>\n",
       "      <th>2</th>\n",
       "    </tr>\n",
       "    <tr>\n",
       "      <th>Bases</th>\n",
       "      <th></th>\n",
       "      <th></th>\n",
       "      <th></th>\n",
       "    </tr>\n",
       "  </thead>\n",
       "  <tbody>\n",
       "    <tr>\n",
       "      <th>000</th>\n",
       "      <td>0.513162</td>\n",
       "      <td>0.272968</td>\n",
       "      <td>0.104097</td>\n",
       "    </tr>\n",
       "    <tr>\n",
       "      <th>001</th>\n",
       "      <td>1.464444</td>\n",
       "      <td>0.972603</td>\n",
       "      <td>0.357815</td>\n",
       "    </tr>\n",
       "    <tr>\n",
       "      <th>010</th>\n",
       "      <td>1.131379</td>\n",
       "      <td>0.705946</td>\n",
       "      <td>0.308621</td>\n",
       "    </tr>\n",
       "    <tr>\n",
       "      <th>011</th>\n",
       "      <td>1.916788</td>\n",
       "      <td>1.364883</td>\n",
       "      <td>0.526152</td>\n",
       "    </tr>\n",
       "    <tr>\n",
       "      <th>100</th>\n",
       "      <td>0.900556</td>\n",
       "      <td>0.537914</td>\n",
       "      <td>0.239489</td>\n",
       "    </tr>\n",
       "    <tr>\n",
       "      <th>101</th>\n",
       "      <td>1.825994</td>\n",
       "      <td>1.177682</td>\n",
       "      <td>0.526352</td>\n",
       "    </tr>\n",
       "    <tr>\n",
       "      <th>110</th>\n",
       "      <td>1.458616</td>\n",
       "      <td>0.945819</td>\n",
       "      <td>0.471745</td>\n",
       "    </tr>\n",
       "    <tr>\n",
       "      <th>111</th>\n",
       "      <td>2.251381</td>\n",
       "      <td>1.589162</td>\n",
       "      <td>0.771806</td>\n",
       "    </tr>\n",
       "  </tbody>\n",
       "</table>\n",
       "</div>"
      ],
      "text/plain": [
       "Outs          0         1         2\n",
       "Bases                              \n",
       "000    0.513162  0.272968  0.104097\n",
       "001    1.464444  0.972603  0.357815\n",
       "010    1.131379  0.705946  0.308621\n",
       "011    1.916788  1.364883  0.526152\n",
       "100    0.900556  0.537914  0.239489\n",
       "101    1.825994  1.177682  0.526352\n",
       "110    1.458616  0.945819  0.471745\n",
       "111    2.251381  1.589162  0.771806"
      ]
     },
     "execution_count": 5,
     "metadata": {},
     "output_type": "execute_result"
    }
   ],
   "source": [
    "RE24_2023 = compute_RE24(startyear = 2023, endyear = 2023)\n",
    "RE24_2023"
   ]
  },
  {
   "cell_type": "markdown",
   "id": "04a1a6c7",
   "metadata": {},
   "source": [
    "With these tables computed, we would be best served to put those tables somewhere we can easily compare them without scrolling. I will do this separately on Google Sheets or Microsoft Excel, but you could also screenshot the tables and paste them into a document to see them all at once. My Google Sheets link is [here.](https://docs.google.com/spreadsheets/d/1iBCPRJkaXIHGTM6mMwqN7oMvgkPAJditbuzejypxw2A/edit?usp=sharing)"
   ]
  },
  {
   "cell_type": "markdown",
   "id": "157344e4",
   "metadata": {},
   "source": [
    "## Answering Simple Baseball Questions with RE24"
   ]
  },
  {
   "cell_type": "markdown",
   "id": "b5b3fcc4",
   "metadata": {},
   "source": [
    "A simple question we could be interested in is whether it is worth it to sacrifice bunt a runner from first base to advance to second base. Teams might only consider this strategic decision with 0 outs or 1 outs, as with 2 outs, an out recorded anywhere will end the inning. We calculate the change in run expectancy by subtracting original bases & outs combination from new bases & outs combination. We can easily locate those values on the Google Sheet, as each pair is highlighted in matching colors for each year:\n",
    "\n",
    "* Bunting a runner from first base with 0 out is highlighted in green.\n",
    "\n",
    "* Bunting a runner from first base with 1 out is highlighted in yellow.\n",
    "\n",
    "Let's see if there are any significant differences by year and by outs:"
   ]
  },
  {
   "cell_type": "markdown",
   "id": "9b9cf5b0",
   "metadata": {},
   "source": [
    "| Year & Outs | Run Expectancy with Runner on 1st | Run Expectancy with Runner on 2nd, 1 more out | Run Expectancy Net Change |\n",
    "| --- | --- | --- | --- |\n",
    "| **2021, 0 out** | 0.910188 | 0.682045 | -0.228143 |\n",
    "| **2021, 1 out** | 0.528809 | 0.320924 | -0.207885 |\n",
    "| **2022, 0 out** | 0.867163 | 0.669258 | -0.197905 |\n",
    "| **2022, 1 out** | 0.510544 | 0.308992 | -0.201552 |\n",
    "| **2023, 0 out** | 0.900556 | 0.705946 | -0.194610 |\n",
    "| **2023, 1 out** | 0.537914 | 0.308621 | -0.229293 |"
   ]
  },
  {
   "cell_type": "markdown",
   "id": "013b5af7",
   "metadata": {},
   "source": [
    "We can see that it is not worth it to sacrifice bunt in any of the last three years. We see that there is a negative run expectancy change for all of these scenarios, which indicates that the average runs scored in the inning goes down when recording an out and advancing a runner from first base to second base. According to the run expectancy table, it is more worth it to take your chances with the runner staying at first base than trying to advance him to second base with a sacrifice bunt. The changes in run expectancy are fairly similar whether you are bunting a runner with 0 outs or with 1 out.\n",
    "\n",
    "If we were curious about any of these with 2 out, we can simply reduce that run expectancy to zero, since a successful bunt (a recorded out) would bring the inning to an end and no runners would score."
   ]
  },
  {
   "cell_type": "markdown",
   "id": "dde8224a",
   "metadata": {},
   "source": [
    "Let's see if this changes if we look at scenarios with runners on 1st and 2nd in the same years and with 0 or 1 out. Similarly, each pair is highlighted as follows:\n",
    "\n",
    "* Bunting runners from first and second with 0 out is highlighted in red.\n",
    "\n",
    "* Bunting runners from first and second with 1 out is highlighted in blue."
   ]
  },
  {
   "cell_type": "markdown",
   "id": "4d6568f8",
   "metadata": {},
   "source": [
    "| Year & Outs | Run Expectancy with Runner on 1st and 2nd | Run Expectancy with Runner on 2nd and 3rd, 1 more out | Run Expectancy Net Change |\n",
    "| --- | --- | --- | --- |\n",
    "| **2021, 0 out** | 1.523455 | 1.390080 | -0.133375 |\n",
    "| **2021, 1 out** | 0.912859 | 0.582442 | -0.330417 |\n",
    "| **2022, 0 out** | 1.437622 | 1.397410 | -0.040212 |\n",
    "| **2022, 1 out** | 0.906098 | 0.547535 | -0.358563 |\n",
    "| **2023, 0 out** | 1.458616 | 1.364883 | -0.093733 |\n",
    "| **2023, 1 out** | 0.945819 | 0.526152 | -0.419667 |"
   ]
  },
  {
   "cell_type": "markdown",
   "id": "be498701",
   "metadata": {},
   "source": [
    "We can see that it is still not worth it to sacrifice bunt in any of the last three years. We see that there is a negative run expectancy change for all of these scenarios, which indicates that the average runs scored in the inning goes down when recording an out and advancing two runners from first and second base to second and third base respectively. According to the run expectancy table, it is more worth it to take your chances with the runners staying at first base and second base than trying to advance them to second and third base with a sacrifice bunt. The changes in run expectancy do differ fairly significantly whether there is 0 outs or 1 out: with 0 out, the run expectancy drops roughly 10 points, but with 1 out, the run expectancy drops by about 36 points. Hence it is a significantly larger mistake to bunt runners on first and second with 1 out than with 0 out."
   ]
  },
  {
   "cell_type": "markdown",
   "id": "391ad6eb",
   "metadata": {},
   "source": [
    "## Asking more complex questions with Run Expectancy"
   ]
  },
  {
   "cell_type": "markdown",
   "id": "9345f05d",
   "metadata": {},
   "source": [
    "### Steal Attempts of Second Base"
   ]
  },
  {
   "cell_type": "markdown",
   "id": "a8e14aa9",
   "metadata": {},
   "source": [
    "Run expectancy can also answer questions about whether it is worth it to steal. We can see from all of the tables that it is worth it for a runner to advance from first base to second base with no change in outs, provided they are successful (highlighted in purple on the sheet). And if the runner fails to steal, the run expectancy decreases (highlighted in orange on the sheet). So it follows that we are not interested in run expectancy changes here, because they are all positive, but the success rate that a runner must have in order to add positive value, in expected runs, to their team by stealing the base.\n",
    "\n",
    "I'll refer to some formulas provided by Russell A. Carleton's *The Shift* where he tackles this problem with a different year's dataset:\n",
    "\n",
    "We let $p$ be the probability that the runner successfully steals second base from first base. In order to compute the change in run expectancy from steal attempts, we'll multiply the success rate by the run expectancy with a runner on second base ($p * E(R)_{010, O}$), then add that to the product of one minus the success rate (or the failure rate) by the run expectancy with no runners on base ($(1-p) * E(R)_{000, O+1}$). And we can compare this to the run expectancy with a runner staying on first base to see if our runner is better off just staying at first base or taking their chances at second, fully acknowledging the risks ($E(R)_{100, O}$). The full formula is shown below:\n",
    "\n",
    "$$E(R)_{100, O} = p \\times E(R)_{010, O} + (1-p) \\times E(R)_{000, O+1} $$"
   ]
  },
  {
   "cell_type": "markdown",
   "id": "1a531a48",
   "metadata": {},
   "source": [
    "Starting with the example of a runner on first base and 0 out, we can make the following substitutions from each of the RE24 table and solve for $p$:\n",
    "\n",
    "$$\\text{2021 RE24 Table: } 0.910188 = p \\times 1.112581 + (1-p) \\times 0.263721$$\n",
    "\n",
    "$$\\text{2022 RE24 Table: } 0.867163 = p \\times 1.065626 + (1-p) \\times 0.252459$$\n",
    "\n",
    "$$\\text{2023 RE24 Table: } 0.900556 = p \\times 1.131379 + (1-p) \\times 0.272968$$"
   ]
  },
  {
   "cell_type": "markdown",
   "id": "7383dc00",
   "metadata": {},
   "source": [
    "If algebra is enjoyable for you, feel free to solve by hand, but Python has a solver that we can use to simplify the process:"
   ]
  },
  {
   "cell_type": "code",
   "execution_count": 6,
   "id": "5d5d5114",
   "metadata": {},
   "outputs": [
    {
     "data": {
      "text/plain": [
       "[0.761570812619278]"
      ]
     },
     "execution_count": 6,
     "metadata": {},
     "output_type": "execute_result"
    }
   ],
   "source": [
    "from sympy import solve, Eq, Symbol\n",
    "from sympy.abc import x\n",
    "\n",
    "x = Symbol('x')\n",
    "\n",
    "#2021 equation solved\n",
    "solve(Eq(0.910188, (1.112581*x) + ((1-x)*0.263721)))"
   ]
  },
  {
   "cell_type": "markdown",
   "id": "b8df8994",
   "metadata": {},
   "source": [
    "According to our run expectancy matrix from the 2021 season, our runner at first would have to succeed just over 3 times for every 4 attempts in order to bring positive run expectancy from their steal.\n",
    "\n",
    "Let's also apply the solver to the other seasons:"
   ]
  },
  {
   "cell_type": "code",
   "execution_count": 7,
   "id": "b7a6d90d",
   "metadata": {},
   "outputs": [
    {
     "data": {
      "text/plain": [
       "[0.755938202115924]"
      ]
     },
     "execution_count": 7,
     "metadata": {},
     "output_type": "execute_result"
    }
   ],
   "source": [
    "#2022 equation solved\n",
    "solve(Eq(0.867163, (1.065626*x) + ((1-x)*0.252459)))"
   ]
  },
  {
   "cell_type": "markdown",
   "id": "4d5eaa8f",
   "metadata": {},
   "source": [
    "The bar is just slightly lower in 2022 compared to 2021 when stealing second base with 0 outs."
   ]
  },
  {
   "cell_type": "code",
   "execution_count": 8,
   "id": "f699ad62",
   "metadata": {},
   "outputs": [
    {
     "data": {
      "text/plain": [
       "[0.731104331142075]"
      ]
     },
     "execution_count": 8,
     "metadata": {},
     "output_type": "execute_result"
    }
   ],
   "source": [
    "#2023 equation solved\n",
    "solve(Eq(0.900556, (1.131379*x) + ((1-x)*0.272968)))"
   ]
  },
  {
   "cell_type": "markdown",
   "id": "69f944c8",
   "metadata": {},
   "source": [
    "And the bar lowers yet again for 2023 in the same bases and outs combination."
   ]
  },
  {
   "cell_type": "markdown",
   "id": "104c2781",
   "metadata": {},
   "source": [
    "We could also look if things change with 1 out:\n",
    "\n",
    "$$\\text{2021 RE24 Table: } 0.528809 = p \\times 0.682045 + (1-p) \\times 0.101194$$\n",
    "\n",
    "$$\\text{2022 RE24 Table: } 0.510544 = p \\times 0.669258 + (1-p) \\times 0.096001$$\n",
    "\n",
    "$$\\text{2023 RE24 Table: } 0.537914 = p \\times 0.705946 + (1-p) \\times 0.104097$$"
   ]
  },
  {
   "cell_type": "code",
   "execution_count": 9,
   "id": "e1a11d39",
   "metadata": {},
   "outputs": [
    {
     "data": {
      "text/plain": [
       "[0.736187077236675]"
      ]
     },
     "execution_count": 9,
     "metadata": {},
     "output_type": "execute_result"
    }
   ],
   "source": [
    "#2021 equation solved\n",
    "solve(Eq(0.528809, (0.682045*x) + ((1-x)*0.101194)))"
   ]
  },
  {
   "cell_type": "code",
   "execution_count": 10,
   "id": "d9e7c534",
   "metadata": {},
   "outputs": [
    {
     "data": {
      "text/plain": [
       "[0.723136394322267]"
      ]
     },
     "execution_count": 10,
     "metadata": {},
     "output_type": "execute_result"
    }
   ],
   "source": [
    "#2022 equation solved\n",
    "solve(Eq(0.510544, (0.669258*x) + ((1-x)*0.096001)))"
   ]
  },
  {
   "cell_type": "code",
   "execution_count": 11,
   "id": "a032ee68",
   "metadata": {},
   "outputs": [
    {
     "data": {
      "text/plain": [
       "[0.720807046285696]"
      ]
     },
     "execution_count": 11,
     "metadata": {},
     "output_type": "execute_result"
    }
   ],
   "source": [
    "#2023 equation solved\n",
    "solve(Eq(0.537914, (0.705946*x) + ((1-x)*0.104097)))"
   ]
  },
  {
   "cell_type": "markdown",
   "id": "9f3aa7aa",
   "metadata": {},
   "source": [
    "We can see similar trends with how the minimum success rate changes year to year, but overall with 1 out, a runner can be just slightly less successful and bring positive value to their team compared to with 0 out."
   ]
  },
  {
   "cell_type": "markdown",
   "id": "0339b74a",
   "metadata": {},
   "source": [
    "For anyone curious about steal attempts of second base with 2 outs, we would substitute the run expectancy on failure with 0 because the inning would be over if the runner is caught stealing. For all four of our run expectancy tables, we would need to find the success rate such that:\n",
    "\n",
    "$$E(R)_{100, 2} = p \\times E(R)_{010, 2}$$"
   ]
  },
  {
   "cell_type": "code",
   "execution_count": 12,
   "id": "6b3380ff",
   "metadata": {},
   "outputs": [
    {
     "data": {
      "text/plain": [
       "[0.706235744288367]"
      ]
     },
     "execution_count": 12,
     "metadata": {},
     "output_type": "execute_result"
    }
   ],
   "source": [
    "#2021 equation solved\n",
    "solve(Eq(0.226648, 0.320924*x))"
   ]
  },
  {
   "cell_type": "code",
   "execution_count": 13,
   "id": "940d4eca",
   "metadata": {},
   "outputs": [
    {
     "data": {
      "text/plain": [
       "[0.672875025890638]"
      ]
     },
     "execution_count": 13,
     "metadata": {},
     "output_type": "execute_result"
    }
   ],
   "source": [
    "#2022 equation solved\n",
    "solve(Eq(0.207913, 0.308992*x))"
   ]
  },
  {
   "cell_type": "code",
   "execution_count": 14,
   "id": "1dc27124",
   "metadata": {},
   "outputs": [
    {
     "data": {
      "text/plain": [
       "[0.775997096762696]"
      ]
     },
     "execution_count": 14,
     "metadata": {},
     "output_type": "execute_result"
    }
   ],
   "source": [
    "#2023 equation solved\n",
    "solve(Eq(0.239489, 0.308621*x))"
   ]
  },
  {
   "cell_type": "markdown",
   "id": "a24ba10c",
   "metadata": {},
   "source": [
    "We can see that the bar for adding positive value through a steal of second base with 2 outs drops fairly dramatically. Given run expectancy is already fairly low with a runner on first base with 2 out and the net change is not very high, the runner can add marginal positive value with a lower success rate at stealing second base in this scenario."
   ]
  },
  {
   "cell_type": "markdown",
   "id": "c88f0866",
   "metadata": {},
   "source": [
    "## Adding a new dimension with Run Probability"
   ]
  },
  {
   "cell_type": "markdown",
   "id": "f154672d",
   "metadata": {},
   "source": [
    "There's plenty more we could do with run expectancy, which we can save for another time. But we know that when an \"old-school manager\" calls for a bunt sign, they're not trying to score as many runs as possible in the inning, which is the assumption we can often (though not always) make during a game. They're probably calling for a sacrifice to advance the runner into scoring position, where they'll have a better chance to score.\n",
    "\n",
    "Or will they?\n",
    "\n",
    "Let's see if that's the case by checking the Run Probability table."
   ]
  },
  {
   "cell_type": "markdown",
   "id": "6e0ae3b3",
   "metadata": {},
   "source": [
    "### Sacrifice bunts"
   ]
  },
  {
   "cell_type": "markdown",
   "id": "556a0c5c",
   "metadata": {},
   "source": [
    "We make a couple of key changes to the RE24 function to modify it to the Run Probability function. They're both generally calculated with the same framework and principles, only that instead of getting the average number of runs scored, we're going for the number of instances with one or more scores out of the total number of counted bases-outs situations."
   ]
  },
  {
   "cell_type": "code",
   "execution_count": 15,
   "id": "883e5a9d",
   "metadata": {},
   "outputs": [
    {
     "data": {
      "text/html": [
       "<div>\n",
       "<style scoped>\n",
       "    .dataframe tbody tr th:only-of-type {\n",
       "        vertical-align: middle;\n",
       "    }\n",
       "\n",
       "    .dataframe tbody tr th {\n",
       "        vertical-align: top;\n",
       "    }\n",
       "\n",
       "    .dataframe thead th {\n",
       "        text-align: right;\n",
       "    }\n",
       "</style>\n",
       "<table border=\"1\" class=\"dataframe\">\n",
       "  <thead>\n",
       "    <tr style=\"text-align: right;\">\n",
       "      <th>Outs</th>\n",
       "      <th>0</th>\n",
       "      <th>1</th>\n",
       "      <th>2</th>\n",
       "    </tr>\n",
       "    <tr>\n",
       "      <th>Bases</th>\n",
       "      <th></th>\n",
       "      <th></th>\n",
       "      <th></th>\n",
       "    </tr>\n",
       "  </thead>\n",
       "  <tbody>\n",
       "    <tr>\n",
       "      <th>000</th>\n",
       "      <td>0.272460</td>\n",
       "      <td>0.160051</td>\n",
       "      <td>0.070034</td>\n",
       "    </tr>\n",
       "    <tr>\n",
       "      <th>001</th>\n",
       "      <td>0.817982</td>\n",
       "      <td>0.639822</td>\n",
       "      <td>0.258769</td>\n",
       "    </tr>\n",
       "    <tr>\n",
       "      <th>010</th>\n",
       "      <td>0.573141</td>\n",
       "      <td>0.394918</td>\n",
       "      <td>0.212705</td>\n",
       "    </tr>\n",
       "    <tr>\n",
       "      <th>011</th>\n",
       "      <td>0.850299</td>\n",
       "      <td>0.666888</td>\n",
       "      <td>0.258929</td>\n",
       "    </tr>\n",
       "    <tr>\n",
       "      <th>100</th>\n",
       "      <td>0.413526</td>\n",
       "      <td>0.262575</td>\n",
       "      <td>0.124451</td>\n",
       "    </tr>\n",
       "    <tr>\n",
       "      <th>101</th>\n",
       "      <td>0.813757</td>\n",
       "      <td>0.607070</td>\n",
       "      <td>0.255720</td>\n",
       "    </tr>\n",
       "    <tr>\n",
       "      <th>110</th>\n",
       "      <td>0.609078</td>\n",
       "      <td>0.402913</td>\n",
       "      <td>0.221486</td>\n",
       "    </tr>\n",
       "    <tr>\n",
       "      <th>111</th>\n",
       "      <td>0.839378</td>\n",
       "      <td>0.657413</td>\n",
       "      <td>0.332249</td>\n",
       "    </tr>\n",
       "  </tbody>\n",
       "</table>\n",
       "</div>"
      ],
      "text/plain": [
       "Outs          0         1         2\n",
       "Bases                              \n",
       "000    0.272460  0.160051  0.070034\n",
       "001    0.817982  0.639822  0.258769\n",
       "010    0.573141  0.394918  0.212705\n",
       "011    0.850299  0.666888  0.258929\n",
       "100    0.413526  0.262575  0.124451\n",
       "101    0.813757  0.607070  0.255720\n",
       "110    0.609078  0.402913  0.221486\n",
       "111    0.839378  0.657413  0.332249"
      ]
     },
     "execution_count": 15,
     "metadata": {},
     "output_type": "execute_result"
    }
   ],
   "source": [
    "RP24_2021 = compute_RP24(startyear = 2021, endyear = 2021)\n",
    "RP24_2021"
   ]
  },
  {
   "cell_type": "markdown",
   "id": "8a4f7188",
   "metadata": {},
   "source": [
    "The run probability table shows the probability of scoring in decimal form, so numbers closer to 0 are less situations in which teams scored at least one run while numbers closer to 1 are more such situations. We can mentally multiply if we want to deal with percentages for ease of communication."
   ]
  },
  {
   "cell_type": "code",
   "execution_count": 16,
   "id": "5b2b9a01",
   "metadata": {},
   "outputs": [
    {
     "data": {
      "text/html": [
       "<div>\n",
       "<style scoped>\n",
       "    .dataframe tbody tr th:only-of-type {\n",
       "        vertical-align: middle;\n",
       "    }\n",
       "\n",
       "    .dataframe tbody tr th {\n",
       "        vertical-align: top;\n",
       "    }\n",
       "\n",
       "    .dataframe thead th {\n",
       "        text-align: right;\n",
       "    }\n",
       "</style>\n",
       "<table border=\"1\" class=\"dataframe\">\n",
       "  <thead>\n",
       "    <tr style=\"text-align: right;\">\n",
       "      <th>Outs</th>\n",
       "      <th>0</th>\n",
       "      <th>1</th>\n",
       "      <th>2</th>\n",
       "    </tr>\n",
       "    <tr>\n",
       "      <th>Bases</th>\n",
       "      <th></th>\n",
       "      <th></th>\n",
       "      <th></th>\n",
       "    </tr>\n",
       "  </thead>\n",
       "  <tbody>\n",
       "    <tr>\n",
       "      <th>000</th>\n",
       "      <td>0.258793</td>\n",
       "      <td>0.152229</td>\n",
       "      <td>0.066916</td>\n",
       "    </tr>\n",
       "    <tr>\n",
       "      <th>001</th>\n",
       "      <td>0.814070</td>\n",
       "      <td>0.654047</td>\n",
       "      <td>0.267521</td>\n",
       "    </tr>\n",
       "    <tr>\n",
       "      <th>010</th>\n",
       "      <td>0.567189</td>\n",
       "      <td>0.388803</td>\n",
       "      <td>0.206855</td>\n",
       "    </tr>\n",
       "    <tr>\n",
       "      <th>011</th>\n",
       "      <td>0.827258</td>\n",
       "      <td>0.662830</td>\n",
       "      <td>0.246503</td>\n",
       "    </tr>\n",
       "    <tr>\n",
       "      <th>100</th>\n",
       "      <td>0.410224</td>\n",
       "      <td>0.261176</td>\n",
       "      <td>0.118197</td>\n",
       "    </tr>\n",
       "    <tr>\n",
       "      <th>101</th>\n",
       "      <td>0.832623</td>\n",
       "      <td>0.638560</td>\n",
       "      <td>0.269485</td>\n",
       "    </tr>\n",
       "    <tr>\n",
       "      <th>110</th>\n",
       "      <td>0.598619</td>\n",
       "      <td>0.403459</td>\n",
       "      <td>0.218069</td>\n",
       "    </tr>\n",
       "    <tr>\n",
       "      <th>111</th>\n",
       "      <td>0.825633</td>\n",
       "      <td>0.647952</td>\n",
       "      <td>0.322447</td>\n",
       "    </tr>\n",
       "  </tbody>\n",
       "</table>\n",
       "</div>"
      ],
      "text/plain": [
       "Outs          0         1         2\n",
       "Bases                              \n",
       "000    0.258793  0.152229  0.066916\n",
       "001    0.814070  0.654047  0.267521\n",
       "010    0.567189  0.388803  0.206855\n",
       "011    0.827258  0.662830  0.246503\n",
       "100    0.410224  0.261176  0.118197\n",
       "101    0.832623  0.638560  0.269485\n",
       "110    0.598619  0.403459  0.218069\n",
       "111    0.825633  0.647952  0.322447"
      ]
     },
     "execution_count": 16,
     "metadata": {},
     "output_type": "execute_result"
    }
   ],
   "source": [
    "RP24_2022 = compute_RP24(startyear = 2022, endyear = 2022)\n",
    "RP24_2022"
   ]
  },
  {
   "cell_type": "code",
   "execution_count": 17,
   "id": "c1901a6f",
   "metadata": {},
   "outputs": [
    {
     "data": {
      "text/html": [
       "<div>\n",
       "<style scoped>\n",
       "    .dataframe tbody tr th:only-of-type {\n",
       "        vertical-align: middle;\n",
       "    }\n",
       "\n",
       "    .dataframe tbody tr th {\n",
       "        vertical-align: top;\n",
       "    }\n",
       "\n",
       "    .dataframe thead th {\n",
       "        text-align: right;\n",
       "    }\n",
       "</style>\n",
       "<table border=\"1\" class=\"dataframe\">\n",
       "  <thead>\n",
       "    <tr style=\"text-align: right;\">\n",
       "      <th>Outs</th>\n",
       "      <th>0</th>\n",
       "      <th>1</th>\n",
       "      <th>2</th>\n",
       "    </tr>\n",
       "    <tr>\n",
       "      <th>Bases</th>\n",
       "      <th></th>\n",
       "      <th></th>\n",
       "      <th></th>\n",
       "    </tr>\n",
       "  </thead>\n",
       "  <tbody>\n",
       "    <tr>\n",
       "      <th>000</th>\n",
       "      <td>0.277172</td>\n",
       "      <td>0.164397</td>\n",
       "      <td>0.070469</td>\n",
       "    </tr>\n",
       "    <tr>\n",
       "      <th>001</th>\n",
       "      <td>0.835886</td>\n",
       "      <td>0.628002</td>\n",
       "      <td>0.248780</td>\n",
       "    </tr>\n",
       "    <tr>\n",
       "      <th>010</th>\n",
       "      <td>0.582916</td>\n",
       "      <td>0.411733</td>\n",
       "      <td>0.210458</td>\n",
       "    </tr>\n",
       "    <tr>\n",
       "      <th>011</th>\n",
       "      <td>0.803468</td>\n",
       "      <td>0.659987</td>\n",
       "      <td>0.241131</td>\n",
       "    </tr>\n",
       "    <tr>\n",
       "      <th>100</th>\n",
       "      <td>0.417580</td>\n",
       "      <td>0.273208</td>\n",
       "      <td>0.132125</td>\n",
       "    </tr>\n",
       "    <tr>\n",
       "      <th>101</th>\n",
       "      <td>0.840000</td>\n",
       "      <td>0.631206</td>\n",
       "      <td>0.283135</td>\n",
       "    </tr>\n",
       "    <tr>\n",
       "      <th>110</th>\n",
       "      <td>0.594504</td>\n",
       "      <td>0.417143</td>\n",
       "      <td>0.235949</td>\n",
       "    </tr>\n",
       "    <tr>\n",
       "      <th>111</th>\n",
       "      <td>0.806971</td>\n",
       "      <td>0.652847</td>\n",
       "      <td>0.327715</td>\n",
       "    </tr>\n",
       "  </tbody>\n",
       "</table>\n",
       "</div>"
      ],
      "text/plain": [
       "Outs          0         1         2\n",
       "Bases                              \n",
       "000    0.277172  0.164397  0.070469\n",
       "001    0.835886  0.628002  0.248780\n",
       "010    0.582916  0.411733  0.210458\n",
       "011    0.803468  0.659987  0.241131\n",
       "100    0.417580  0.273208  0.132125\n",
       "101    0.840000  0.631206  0.283135\n",
       "110    0.594504  0.417143  0.235949\n",
       "111    0.806971  0.652847  0.327715"
      ]
     },
     "execution_count": 17,
     "metadata": {},
     "output_type": "execute_result"
    }
   ],
   "source": [
    "RP24_2023 = compute_RP24(startyear = 2023, endyear = 2023)\n",
    "RP24_2023"
   ]
  },
  {
   "cell_type": "markdown",
   "id": "0f41cc6b",
   "metadata": {},
   "source": [
    "The most common sacrifice bunt attempt is with a runner on first base and no outs. We can find out if the chances of scoring increase after a bunt (which we assume is successful) and advancing the runner from first base to second by looking at the corresponding cells in the Run Probability table.\n",
    "\n",
    "As with the Run Expectancy table, the cells highlighted green shows the cells involved with bunting a runner from first base and 0 out to second base."
   ]
  },
  {
   "cell_type": "markdown",
   "id": "30f915b0",
   "metadata": {},
   "source": [
    "| Year | Run Probability with Runner on 1st, 0 out | Run Probability with Runner on 2nd, 1 out | Run Probability Net Change |\n",
    "| --- | --- | --- | --- |\n",
    "| **2021, 0 out** | 0.413526 | 0.394918 | -0.018608 |\n",
    "| **2022, 0 out** | 0.410224 | 0.388803 | -0.021421 |\n",
    "| **2023, 0 out** | 0.417580 | 0.411733 | -0.005847 |"
   ]
  },
  {
   "cell_type": "markdown",
   "id": "e336cf75",
   "metadata": {},
   "source": [
    "From these results, we see that in addition to run expectancy, that the chances of scoring even one run also decrease during a sacrifice bunt, though these are fairly small changes."
   ]
  },
  {
   "cell_type": "markdown",
   "id": "f83ce7e7",
   "metadata": {},
   "source": [
    "One interesting scenario is bunting with runners on both first and second base and 0 outs, which we can see below (and highlighted in yellow on the Google Sheet):"
   ]
  },
  {
   "cell_type": "markdown",
   "id": "29a6833b",
   "metadata": {},
   "source": [
    "| Year | Run Probability with Runner on 1st and 2nd, 0 out | Run Probability with Runner on 2nd and 3rd, 1 out | Run Probability Net Change |\n",
    "| --- | --- | --- | --- |\n",
    "| **2021, 0 out** | 0.609078 | 0.666888 | +0.05781 |\n",
    "| **2022, 0 out** | 0.598619 | 0.662830 | +0.064211 |\n",
    "| **2023, 0 out** | 0.594504 | 0.659987 | +0.065483 |"
   ]
  },
  {
   "cell_type": "markdown",
   "id": "e0e8ae36",
   "metadata": {},
   "source": [
    "We can see that the run probability actually does increase by about 5%-6%. During each of these three years, sacrificing an out to advance two runners has actually put teams in a better position to score at least one run."
   ]
  },
  {
   "cell_type": "markdown",
   "id": "45072884",
   "metadata": {},
   "source": [
    "However, with run expectancy we noticed that it was not worth it to bunt due to the negative run expectancy change, so what should a team do when they have runners on first and second with 0 outs? Should they trust the run expectancy, which makes a decision based on the average number of runs scored in such situations, or should they trust the run probability, which goes by the percentage of instances which teams scored in such situations?\n",
    "\n",
    "The answer is that it depends on the score and point in the game. Teams would keep in mind that all of this data are under the general assumption that teams are trying to score as many runs as possible in most innings. In scenarios where teams are trying to maximize scoring, they would likely choose not to bunt because run expectancy shows that teams score less runs on average when they bunt. In scenarios where teams just need one run to tie or win the game, they might strongly consider the bunt because the probability of scoring increases if the batter can record one out and advance the runners to second and third.\n",
    "\n",
    "Of course, a team will strongly consider other factors, such as the lefty-righty matchup, the quality of the batting and pitching, and many other situational factors that may be of importance. But looking at these two analytical suggestions for this decision alone, we find a way to incorporate this data into the game.\n",
    "\n",
    "This is a good example in which teams must make tough decisions and the data conflict with one another. I believe it is generally a good guideline to use the data as a suggestion and adapt the decisions to the situation using experience and baseball situational awareness."
   ]
  }
 ],
 "metadata": {
  "kernelspec": {
   "display_name": "Python 3 (ipykernel)",
   "language": "python",
   "name": "python3"
  },
  "language_info": {
   "codemirror_mode": {
    "name": "ipython",
    "version": 3
   },
   "file_extension": ".py",
   "mimetype": "text/x-python",
   "name": "python",
   "nbconvert_exporter": "python",
   "pygments_lexer": "ipython3",
   "version": "3.9.13"
  }
 },
 "nbformat": 4,
 "nbformat_minor": 5
}
